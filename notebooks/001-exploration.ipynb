{
 "cells": [
  {
   "cell_type": "markdown",
   "id": "8e976e34-3b8c-4621-becb-f5aee5743b70",
   "metadata": {},
   "source": [
    "# Set up notebook"
   ]
  },
  {
   "cell_type": "code",
   "execution_count": null,
   "id": "b6169131-7bb4-4fd7-865d-3c959659588a",
   "metadata": {},
   "outputs": [],
   "source": [
    "from pyprojroot import here\n",
    "import numpy as np\n",
    "import pandas as pd\n",
    "import matplotlib.pyplot as plt\n",
    "import matplotlib.dates as mdates\n",
    "import matplotlib.ticker as mticker\n",
    "import seaborn as sns"
   ]
  },
  {
   "cell_type": "code",
   "execution_count": null,
   "id": "63fdc734-6263-4469-ad2b-5f7a35dbefa6",
   "metadata": {},
   "outputs": [],
   "source": [
    "data_dir = here() / \"data\" / \"raw\""
   ]
  },
  {
   "cell_type": "code",
   "execution_count": null,
   "id": "86f8a13f-e37c-4d48-9343-19be458fd4e9",
   "metadata": {},
   "outputs": [],
   "source": [
    "pd.set_option(\"display.max_colwidth\", None)\n",
    "pd.set_option(\"display.max_rows\", 20)\n",
    "pd.set_option(\"display.max_columns\", 30)"
   ]
  },
  {
   "cell_type": "code",
   "execution_count": null,
   "id": "4721b1a4-5c75-4d2e-8255-dce9b947129d",
   "metadata": {},
   "outputs": [],
   "source": [
    "%matplotlib widget"
   ]
  },
  {
   "cell_type": "markdown",
   "id": "265c78e2-b9c4-4892-afec-62e050d1d07b",
   "metadata": {},
   "source": [
    "# Load data"
   ]
  },
  {
   "cell_type": "markdown",
   "id": "eb99cb88-5f5d-477a-a099-12aefa55252e",
   "metadata": {},
   "source": [
    "## Load Freestyle Libre data file"
   ]
  },
  {
   "cell_type": "code",
   "execution_count": null,
   "id": "0bff1a23-c255-4b34-9418-d426f3faafc4",
   "metadata": {},
   "outputs": [],
   "source": [
    "libre_path = data_dir / \"AnaAndres-Arroyo_glucose_15-8-2023.csv\"\n",
    "libre = pd.read_csv(libre_path, header=1, index_col=\"Device Timestamp\")\n",
    "libre = libre.dropna(axis=\"columns\", how=\"all\")\n",
    "libre.index = pd.to_datetime(libre.index, format=\"mixed\", dayfirst=True)\n",
    "libre.shape"
   ]
  },
  {
   "cell_type": "code",
   "execution_count": null,
   "id": "4ec1cc4f-6fe0-449a-aba6-3a7f86cce25b",
   "metadata": {},
   "outputs": [],
   "source": [
    "libre.head()"
   ]
  },
  {
   "cell_type": "markdown",
   "id": "60893e6c-cdfe-43b7-b9f7-38dc4db0977d",
   "metadata": {},
   "source": [
    "## Load finger pricking glucose readings"
   ]
  },
  {
   "cell_type": "code",
   "execution_count": null,
   "id": "1a26ceb1-91cb-4c66-9202-9875e045bb43",
   "metadata": {},
   "outputs": [],
   "source": [
    "finger_path = data_dir / \"Glucose Readings.xlsx\"\n",
    "finger = pd.read_excel(finger_path, header=[0, 1], index_col=0)\n",
    "finger = finger.dropna(axis=\"rows\", how=\"all\")\n",
    "finger.index = pd.to_datetime(finger.index).date\n",
    "finger.shape"
   ]
  },
  {
   "cell_type": "code",
   "execution_count": null,
   "id": "4b05ae94-9204-4c91-b771-2f7fb210a077",
   "metadata": {},
   "outputs": [],
   "source": [
    "finger.head(3)"
   ]
  },
  {
   "cell_type": "markdown",
   "id": "895dfff5-e98d-43e6-85e8-3886b1b7a8c9",
   "metadata": {},
   "source": [
    "# Plot data"
   ]
  },
  {
   "cell_type": "code",
   "execution_count": null,
   "id": "6cf09d20-a737-48d6-8156-ca04e07a5a68",
   "metadata": {},
   "outputs": [],
   "source": [
    "fig, ax = plt.subplots(1, 1, figsize=[12, 4])\n",
    "libre[\"Historic Glucose mmol/L\"].dropna().plot(\n",
    "    ax=ax,\n",
    "    alpha=0.8,\n",
    "    color=\"royalblue\",\n",
    ")\n",
    "libre[\"Scan Glucose mmol/L\"].dropna().plot(\n",
    "    ax=ax,\n",
    "    marker=\".\",\n",
    "    linestyle=\"\",\n",
    "    alpha=0.4,\n",
    "    color=\"navy\",\n",
    ")\n",
    "ax.axhline(\n",
    "    y=7.8,\n",
    "    label=\"threshold = 7.8 mmol/L\",\n",
    "    color=\"black\",\n",
    "    alpha=0.5,\n",
    "    linestyle=\"--\",\n",
    ")\n",
    "ax.legend(fontsize=8)\n",
    "ax.grid(color=\"black\", alpha=0.2)\n",
    "ax.set_ylabel(\"Glucose (mmol/L)\")\n",
    "ax.set_xlabel(\"\")\n",
    "ax.set_title(\"Data from Freestyle Libre sensor\")\n",
    "fig.tight_layout()"
   ]
  },
  {
   "cell_type": "code",
   "execution_count": null,
   "id": "72b62a96-da8d-4933-be76-ccacba5678fc",
   "metadata": {},
   "outputs": [],
   "source": [
    "all_dates = pd.Series(libre.index.date).sort_values().unique()\n",
    "ncols = 4\n",
    "nrows = int(np.ceil((len(all_dates) / ncols)))\n",
    "fig, axes = plt.subplots(\n",
    "    nrows,\n",
    "    ncols,\n",
    "    figsize=[ncols * 4, nrows * 2],\n",
    "    squeeze=False,\n",
    "    sharex=True,\n",
    "    sharey=True,\n",
    ")\n",
    "for d, ax in zip(all_dates, axes.flatten()[-len(all_dates) :]):\n",
    "    mask = libre.index.date == d\n",
    "    df = libre[mask]\n",
    "    df.index = df.index.time\n",
    "\n",
    "    # Add glucose readings from the Libre sensor\n",
    "    df[\"Historic Glucose mmol/L\"].dropna().plot(\n",
    "        ax=ax,\n",
    "        alpha=0.8,\n",
    "        color=\"royalblue\",\n",
    "    )\n",
    "    df[\"Scan Glucose mmol/L\"].dropna().plot(\n",
    "        ax=ax,\n",
    "        marker=\".\",\n",
    "        markersize=6,\n",
    "        linestyle=\"\",\n",
    "        alpha=0.1,\n",
    "        color=\"navy\",\n",
    "    )\n",
    "\n",
    "    # Add notes, which are usually meals and snacks\n",
    "    for t in df[\"Notes\"].dropna().index:\n",
    "        ax.axvline(\n",
    "            x=t,\n",
    "            color=\"chocolate\",\n",
    "            alpha=0.2,\n",
    "        )\n",
    "\n",
    "    # Add thresholds\n",
    "    ax.axhline(\n",
    "        y=7.8,\n",
    "        label=\"threshold = 7.8 mmol/L\",\n",
    "        color=\"black\",\n",
    "        alpha=0.5,\n",
    "        linestyle=\"--\",\n",
    "    )\n",
    "    ax.axhline(\n",
    "        y=5.3,\n",
    "        label=\"threshold = 5.3 mmol/L\",\n",
    "        color=\"black\",\n",
    "        alpha=0.2,\n",
    "        linestyle=\"--\",\n",
    "    )\n",
    "\n",
    "    # Add manual data from finger pricks\n",
    "    if d in finger.index:\n",
    "        # Glucose readings\n",
    "        s = (\n",
    "            finger.loc[\n",
    "                d,\n",
    "                [\n",
    "                    (\"Before breakfast\", \"Time\"),\n",
    "                    (\"Before breakfast\", \"Glucose (mmol/L) in finger blood\"),\n",
    "                    (\"After breakfast\", \"Time\"),\n",
    "                    (\"After breakfast\", \"Glucose (mmol/L) in finger blood\"),\n",
    "                    (\"After lunch\", \"Time\"),\n",
    "                    (\"After lunch\", \"Glucose (mmol/L) in finger blood\"),\n",
    "                    (\"After dinner\", \"Time\"),\n",
    "                    (\"After dinner\", \"Glucose (mmol/L) in finger blood\"),\n",
    "                ],\n",
    "            ]\n",
    "            .unstack()\n",
    "            .set_index(\"Time\")[\"Glucose (mmol/L) in finger blood\"]\n",
    "            .dropna()\n",
    "        )\n",
    "        if s.size > 0:\n",
    "            s.plot(\n",
    "                ax=ax,\n",
    "                marker=\".\",\n",
    "                markersize=8,\n",
    "                linestyle=\"\",\n",
    "                alpha=0.8,\n",
    "                color=\"firebrick\",\n",
    "            )\n",
    "\n",
    "        # Meal times\n",
    "        for m in [\"Breakfast\", \"Lunch\", \"Dinner\"]:\n",
    "            ax.axvline(\n",
    "                x=finger.loc[d, (m, \"Time\")],\n",
    "                color=\"chocolate\",\n",
    "                alpha=0.6,\n",
    "            )\n",
    "\n",
    "    # Print the date on the plot\n",
    "    ax.text(0, 8.5, d.strftime(\"%Y-%m-%d %A\"), fontsize=8)\n",
    "\n",
    "    # Format plot\n",
    "    ticks = pd.date_range(\"2023-08-15\", \"2023-08-16\", freq=\"2H\").time[:-1]\n",
    "    tick_labels = [t.strftime(\"%H:%M\") for t in ticks]\n",
    "    ax.set_xticks(ticks)\n",
    "    ax.set_xticklabels(tick_labels, rotation=90)\n",
    "    ax.xaxis.set_minor_locator(mticker.AutoMinorLocator(2))\n",
    "    ax.yaxis.set_minor_locator(mticker.AutoMinorLocator(2))\n",
    "    # ax.legend(fontsize=6, loc='lower left')\n",
    "    ax.grid(color=\"black\", alpha=0.1, which=\"major\")\n",
    "    ax.grid(color=\"black\", alpha=0.05, which=\"minor\")\n",
    "    ax.set_ylabel(\"Glucose (mmol/L)\")\n",
    "    ax.set_xlabel(\"Timestamp\")\n",
    "axes.flatten()[-len(all_dates)].legend(fontsize=6, loc=\"lower left\")\n",
    "axes.flatten()[0].text(\n",
    "    0,\n",
    "    8,\n",
    "    \"Red dots are finger measurements.\\nDark brown lines are meals (breakfast, lunch, dinner).\\nFaint brown lines are snacks.\",\n",
    "    fontsize=7,\n",
    "    va=\"top\",\n",
    ")\n",
    "fig.tight_layout()"
   ]
  },
  {
   "cell_type": "code",
   "execution_count": null,
   "id": "1d050891-9e90-411c-8f4a-194f060c0b6a",
   "metadata": {},
   "outputs": [],
   "source": [
    "df = (\n",
    "    finger[[\"Before breakfast\", \"After breakfast\", \"After lunch\", \"After dinner\"]]\n",
    "    .unstack()\n",
    "    .unstack(1)\n",
    ")\n",
    "df.columns.name = \"\"\n",
    "df = df.reset_index()\n",
    "df = df.rename(columns={\"level_0\": \"Reading\", \"level_1\": \"Date\"})\n",
    "df = df.set_index([\"Date\", \"Time\"])\n",
    "df[\"Glucose (mmol/L) difference: finger blood - arm sensor\"] = (\n",
    "    df[\"Glucose (mmol/L) in finger blood\"] - df[\"Glucose (mmol/L) in arm sensor\"]\n",
    ")\n",
    "df\n",
    "\n",
    "fig, ax = plt.subplots(1, 1, figsize=[6, 4], sharex=True)\n",
    "sns.histplot(\n",
    "    ax=ax,\n",
    "    data=df,\n",
    "    x=\"Glucose (mmol/L) difference: finger blood - arm sensor\",\n",
    "    kde=True,\n",
    "    bins=12,\n",
    "    color=\"firebrick\",\n",
    "    edgecolor=\"firebrick\",\n",
    "    alpha=0.1,\n",
    ")\n",
    "ax.axvline(0, color=\"black\", linestyle=\"--\", alpha=0.8)\n",
    "ax.set_ylabel(\"Number of readings\")\n",
    "ax.grid(color=\"black\", alpha=0.2)\n",
    "fig.tight_layout()\n",
    "\n",
    "fig, ax = plt.subplots(1, 1, figsize=[6, 6], sharex=True)\n",
    "sns.scatterplot(\n",
    "    ax=ax,\n",
    "    data=df,\n",
    "    x=\"Glucose (mmol/L) in arm sensor\",\n",
    "    y=\"Glucose (mmol/L) in finger blood\",\n",
    "    hue=\"Reading\",\n",
    "    # palette='colorblind',\n",
    "    s=100,\n",
    "    alpha=0.6,\n",
    ")\n",
    "x = ax.get_xlim()\n",
    "ax.plot(x, np.array(x) + 1, color=\"black\", linestyle=\":\", alpha=0.3, label=\"y = x + 1\")\n",
    "ax.plot(\n",
    "    x, np.array(x) + 0.5, color=\"black\", linestyle=\"--\", alpha=0.3, label=\"y = x + 0.5\"\n",
    ")\n",
    "ax.plot(x, x, color=\"black\", linestyle=\"-\", alpha=0.3, label=\"y = x\")\n",
    "ax.plot(\n",
    "    x, np.array(x) - 0.5, color=\"black\", linestyle=\"--\", alpha=0.3, label=\"y = x - 0.5\"\n",
    ")\n",
    "ax.plot(x, np.array(x) - 1, color=\"black\", linestyle=\":\", alpha=0.3, label=\"y = x - 1\")\n",
    "ax.legend(fontsize=8)\n",
    "ax.set_aspect(\"equal\")\n",
    "ax.grid(color=\"black\", alpha=0.2)\n",
    "fig.tight_layout()"
   ]
  }
 ],
 "metadata": {
  "kernelspec": {
   "display_name": "Python 3 (ipykernel)",
   "language": "python",
   "name": "python3"
  },
  "language_info": {
   "codemirror_mode": {
    "name": "ipython",
    "version": 3
   },
   "file_extension": ".py",
   "mimetype": "text/x-python",
   "name": "python",
   "nbconvert_exporter": "python",
   "pygments_lexer": "ipython3",
   "version": "3.11.4"
  }
 },
 "nbformat": 4,
 "nbformat_minor": 5
}
